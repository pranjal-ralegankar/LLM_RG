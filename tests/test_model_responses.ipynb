{
 "cells": [
  {
   "cell_type": "code",
   "execution_count": 1,
   "id": "a60db23b-63b9-4d0e-931a-841f889fd783",
   "metadata": {},
   "outputs": [
    {
     "name": "stdout",
     "output_type": "stream",
     "text": [
      "Current Working Directory: /lambda/nfs/pranjal-codebase/tests\n",
      "Current Working Directory: /lambda/nfs/pranjal-codebase\n"
     ]
    }
   ],
   "source": [
    "import os\n",
    "import sys\n",
    "\n",
    "# change working directory\n",
    "current_dir = os.getcwd() \n",
    "print(f\"Current Working Directory: {current_dir}\")\n",
    "parent_dir = os.path.abspath(os.path.join(current_dir, '..'))\n",
    "os.chdir(parent_dir)\n",
    "current_dir = os.getcwd()\n",
    "print(f\"Current Working Directory: {current_dir}\")\n",
    "#We need to be in the main directory that contains tests, models, etc folders"
   ]
  },
  {
   "cell_type": "code",
   "execution_count": 2,
   "id": "febada1d-6081-43d5-94af-7f5d390cae85",
   "metadata": {},
   "outputs": [
    {
     "name": "stderr",
     "output_type": "stream",
     "text": [
      "/home/ubuntu/.local/lib/python3.10/site-packages/tqdm/auto.py:21: TqdmWarning: IProgress not found. Please update jupyter and ipywidgets. See https://ipywidgets.readthedocs.io/en/stable/user_install.html\n",
      "  from .autonotebook import tqdm as notebook_tqdm\n",
      "2025-07-27 09:14:17.062695: I tensorflow/core/util/port.cc:153] oneDNN custom operations are on. You may see slightly different numerical results due to floating-point round-off errors from different computation orders. To turn them off, set the environment variable `TF_ENABLE_ONEDNN_OPTS=0`.\n",
      "2025-07-27 09:14:17.076471: E external/local_xla/xla/stream_executor/cuda/cuda_fft.cc:467] Unable to register cuFFT factory: Attempting to register factory for plugin cuFFT when one has already been registered\n",
      "WARNING: All log messages before absl::InitializeLog() is called are written to STDERR\n",
      "E0000 00:00:1753607657.093594    4120 cuda_dnn.cc:8579] Unable to register cuDNN factory: Attempting to register factory for plugin cuDNN when one has already been registered\n",
      "E0000 00:00:1753607657.102133    4120 cuda_blas.cc:1407] Unable to register cuBLAS factory: Attempting to register factory for plugin cuBLAS when one has already been registered\n",
      "W0000 00:00:1753607657.116693    4120 computation_placer.cc:177] computation placer already registered. Please check linkage and avoid linking the same target more than once.\n",
      "W0000 00:00:1753607657.116711    4120 computation_placer.cc:177] computation placer already registered. Please check linkage and avoid linking the same target more than once.\n",
      "W0000 00:00:1753607657.116713    4120 computation_placer.cc:177] computation placer already registered. Please check linkage and avoid linking the same target more than once.\n",
      "W0000 00:00:1753607657.116715    4120 computation_placer.cc:177] computation placer already registered. Please check linkage and avoid linking the same target more than once.\n",
      "2025-07-27 09:14:17.120557: I tensorflow/core/platform/cpu_feature_guard.cc:210] This TensorFlow binary is optimized to use available CPU instructions in performance-critical operations.\n",
      "To enable the following instructions: AVX512F AVX512_VNNI, in other operations, rebuild TensorFlow with the appropriate compiler flags.\n"
     ]
    }
   ],
   "source": [
    "from coarse_grain_model import GemmaWithSlidingWindow\n",
    "from transformers import AutoTokenizer, AutoModelForCausalLM\n",
    "import torch\n",
    "import gc"
   ]
  },
  {
   "cell_type": "code",
   "execution_count": 9,
   "id": "bd6a954a-06e5-4c66-a758-293c5762b9ec",
   "metadata": {},
   "outputs": [],
   "source": [
    "def model_response(model_path,prompts,window_mask=None):\n",
    "    device = \"cuda\" if torch.cuda.is_available() else \"cpu\"\n",
    "    print(f\"Using device: {device}\")\n",
    "    print(f\"Loading generative model from: {model_path}\")\n",
    "    tokenizer2 = AutoTokenizer.from_pretrained(model_path)\n",
    "    if window_mask:\n",
    "        print(\"Applying attention mask beyond previous\"+str(window_mask)+\"tokens\")\n",
    "        model2 = GemmaWithSlidingWindow.from_pretrained(model_path,window_mask)\n",
    "    else:\n",
    "        model2 = AutoModelForCausalLM.from_pretrained(model_path)\n",
    "    model2.to(device)\n",
    "    model2.eval()\n",
    "\n",
    "    responses=[\" \"]*len(prompts)\n",
    "    i=0\n",
    "    for prompt in prompts:\n",
    "        print(\"input=\",prompt)\n",
    "        inputs = tokenizer2(prompt, return_tensors=\"pt\").to(device)\n",
    "        with torch.no_grad():\n",
    "            outputs = model2.generate(\n",
    "                **inputs,\n",
    "                max_new_tokens=50,\n",
    "                pad_token_id=tokenizer2.eos_token_id\n",
    "            )\n",
    "        full_response = tokenizer2.decode(outputs[0], skip_special_tokens=True)\n",
    "        responses[i] = full_response[len(prompt):].strip()\n",
    "        print(\"llm output=\",responses[i])\n",
    "        i+=1\n",
    "    del model2\n",
    "    del tokenizer2\n",
    "    # 2. Force Python's garbage collection\n",
    "    gc.collect()\n",
    "    # 3. CRITICAL: Empty the CUDA cache\n",
    "    torch.cuda.empty_cache()\n",
    "\n",
    "    return responses"
   ]
  },
  {
   "cell_type": "code",
   "execution_count": 10,
   "id": "8b47986e-da59-492d-b82d-af39520e6982",
   "metadata": {},
   "outputs": [
    {
     "name": "stdout",
     "output_type": "stream",
     "text": [
      "Using device: cuda\n",
      "Loading generative model from: ./models/gemma2b-it\n"
     ]
    },
    {
     "name": "stderr",
     "output_type": "stream",
     "text": [
      "Loading checkpoint shards: 100%|██████████| 3/3 [00:00<00:00,  3.33it/s]\n"
     ]
    },
    {
     "name": "stdout",
     "output_type": "stream",
     "text": [
      "input= Bla bla black sheep have you any\n",
      "llm output= wool?\n",
      "\n",
      "The question is a riddle, and the answer is no.\n",
      "\n",
      "The riddle is asking if the sheep has wool, but the answer is no. This is a trick question, as the question is asking for a negative answer.\n",
      "Using device: cuda\n",
      "Loading generative model from: ./models/gemma2b-it\n",
      "Applying attention mask beyond previous256tokens\n"
     ]
    },
    {
     "name": "stderr",
     "output_type": "stream",
     "text": [
      "Loading checkpoint shards: 100%|██████████| 3/3 [00:00<00:00,  3.15it/s]\n"
     ]
    },
    {
     "name": "stdout",
     "output_type": "stream",
     "text": [
      "input= Bla bla black sheep have you any\n",
      "llm output= wool?\n",
      "\n",
      "The question is a riddle, and the answer is no.\n",
      "\n",
      "The riddle is asking if the sheep has wool, but the answer is no. This is a trick question, as the question is asking for a negative answer.\n",
      "Using device: cuda\n",
      "Loading generative model from: ./models/gemma2b-it_sw256/checkpoint-3750\n"
     ]
    },
    {
     "name": "stderr",
     "output_type": "stream",
     "text": [
      "Loading checkpoint shards: 100%|██████████| 2/2 [00:01<00:00,  1.36it/s]\n"
     ]
    },
    {
     "name": "stdout",
     "output_type": "stream",
     "text": [
      "input= Bla bla black sheep have you any\n",
      "llm output= wool?\n",
      "\n",
      "Yes, yes, I have some wool,\n",
      "\n",
      "I have some wool, I have some wool.\n",
      "\n",
      "I have some wool, I have some wool,\n",
      "\n",
      "I have some wool, I have some wool.\n",
      "\n",
      "I have some wool\n",
      "Using device: cuda\n",
      "Loading generative model from: ./models/gemma2b-it_sw256/checkpoint-3750\n",
      "Applying attention mask beyond previous256tokens\n"
     ]
    },
    {
     "name": "stderr",
     "output_type": "stream",
     "text": [
      "Loading checkpoint shards: 100%|██████████| 2/2 [00:01<00:00,  1.25it/s]\n"
     ]
    },
    {
     "name": "stdout",
     "output_type": "stream",
     "text": [
      "input= Bla bla black sheep have you any\n",
      "llm output= wool?\n",
      "\n",
      "Yes, yes, I have some wool,\n",
      "\n",
      "I have some wool, I have some wool.\n",
      "\n",
      "I have some wool, I have some wool,\n",
      "\n",
      "I have some wool, I have some wool.\n",
      "\n",
      "I have some wool\n"
     ]
    }
   ],
   "source": [
    "prompts=[\"Bla bla black sheep have you any\",]\n",
    "responses0=model_response(\"./models/gemma2b-it\",prompts)\n",
    "responses1=model_response(\"./models/gemma2b-it\",prompts,window_mask=256)\n",
    "responses2=model_response(\"./models/gemma2b-it_sw256/checkpoint-3750\",prompts)\n",
    "responses3=model_response(\"./models/gemma2b-it_sw256/checkpoint-3750\",prompts,window_mask=256)"
   ]
  },
  {
   "cell_type": "code",
   "execution_count": 11,
   "id": "49e3c751-37a8-472b-a069-07295d82888d",
   "metadata": {},
   "outputs": [],
   "source": [
    "model_path=\"./models/gemma2b-it_sw256/checkpoint-3750\""
   ]
  },
  {
   "cell_type": "code",
   "execution_count": 13,
   "id": "375456e2-7302-4433-8dfd-beff4e523a94",
   "metadata": {},
   "outputs": [
    {
     "data": {
      "text/plain": [
       "True"
      ]
     },
     "execution_count": 13,
     "metadata": {},
     "output_type": "execute_result"
    }
   ],
   "source": [
    "\"sw\" in model_path"
   ]
  },
  {
   "cell_type": "code",
   "execution_count": 18,
   "id": "edf9ff82-68c0-449b-8b5d-030308d87773",
   "metadata": {},
   "outputs": [
    {
     "ename": "ValueError",
     "evalue": "model path is not according to convention",
     "output_type": "error",
     "traceback": [
      "\u001b[0;31m---------------------------------------------------------------------------\u001b[0m",
      "\u001b[0;31mValueError\u001b[0m                                Traceback (most recent call last)",
      "\u001b[0;32m/tmp/ipykernel_4120/4226057042.py\u001b[0m in \u001b[0;36m<module>\u001b[0;34m\u001b[0m\n\u001b[1;32m      8\u001b[0m \u001b[0;32melse\u001b[0m\u001b[0;34m:\u001b[0m\u001b[0;34m\u001b[0m\u001b[0;34m\u001b[0m\u001b[0m\n\u001b[1;32m      9\u001b[0m     \u001b[0;31m# This block runs if the pattern was not found\u001b[0m\u001b[0;34m\u001b[0m\u001b[0;34m\u001b[0m\u001b[0m\n\u001b[0;32m---> 10\u001b[0;31m     \u001b[0;32mraise\u001b[0m \u001b[0mValueError\u001b[0m\u001b[0;34m(\u001b[0m\u001b[0;34m\"model path is not according to convention\"\u001b[0m\u001b[0;34m)\u001b[0m\u001b[0;34m\u001b[0m\u001b[0;34m\u001b[0m\u001b[0m\n\u001b[0m",
      "\u001b[0;31mValueError\u001b[0m: model path is not according to convention"
     ]
    }
   ],
   "source": [
    "import re\n",
    "model_path=\"./models/gemma2b-it_sw_25_2/checkpoint-3750\"\n",
    "match = re.search(r\"sw(\\d+)\", model_path)\n",
    "\n",
    "if match:\n",
    "    number = match.group(1)\n",
    "    print(f\"Found number: {number}\")\n",
    "else:\n",
    "    # This block runs if the pattern was not found\n",
    "    raise ValueError(\"model path is not according to convention\")"
   ]
  },
  {
   "cell_type": "code",
   "execution_count": null,
   "id": "f1ba9fe2-d04c-4d18-be81-f1860f1761ac",
   "metadata": {},
   "outputs": [],
   "source": []
  }
 ],
 "metadata": {
  "kernelspec": {
   "display_name": "Python 3 (ipykernel)",
   "language": "python",
   "name": "python3"
  },
  "language_info": {
   "codemirror_mode": {
    "name": "ipython",
    "version": 3
   },
   "file_extension": ".py",
   "mimetype": "text/x-python",
   "name": "python",
   "nbconvert_exporter": "python",
   "pygments_lexer": "ipython3",
   "version": "3.10.12"
  }
 },
 "nbformat": 4,
 "nbformat_minor": 5
}
