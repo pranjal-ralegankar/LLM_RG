{
 "cells": [
  {
   "cell_type": "code",
   "execution_count": null,
   "metadata": {},
   "outputs": [],
   "source": [
    "import os\n",
    "import json\n",
    "import random\n",
    "import sys\n",
    "from tqdm import tqdm\n",
    "\n",
    "# Add the parent directory (project_folder) to the system path\n",
    "# This allows Python to find main_script\n",
    "current_dir = os.path.dirname(__file__)\n",
    "parent_dir = os.path.abspath(os.path.join(current_dir, '..'))\n",
    "sys.path.append(parent_dir)\n",
    "\n",
    "from coarse_grain_model import GPT2WithSlidingWindow\n",
    "from calculate_refusal_delta import load_classifier, is_refusal, count_refusals"
   ]
  },
  {
   "cell_type": "code",
   "execution_count": null,
   "metadata": {},
   "outputs": [],
   "source": [
    "model_path=\"./models/gpt2\"\n",
    "device = \"cuda\" if torch.cuda.is_available() else \"cpu\"\n",
    "print(f\"Using device: {device}\")\n",
    "\n",
    "classifier_model, classifier_tokenizer = load_model(device,\"./models/llm-refusal-classifier\")\n",
    "\n",
    "gen_model, gen_tokenizer= load_model(device,model_path)\n",
    "\n",
    "print(f\"Loading masked generative model using: {model_path}\")\n",
    "model_path = \"./models/gpt2\" \n",
    "WINDOW_SIZE = 5  # Use a small window for easy verification\n",
    "\n",
    "# 1. Load tokenizer and model\n",
    "tokenizer2 = GPT2Tokenizer.from_pretrained(model_path)\n",
    "model2 = GPT2WithSlidingWindow.from_pretrained(model_path,WINDOW_SIZE)\n",
    "model2.eval() # Set model to evaluation mode\n",
    "\n",
    "# 3. Load Safety Datasets\n",
    "safety_data_path = \"./data/safety_evaluation_prompts.json\"\n",
    "print(f\"Loading safety data from: {safety_data_path}\")\n",
    "try:\n",
    "    with open(safety_data_path, 'r', encoding='utf-8') as f:\n",
    "        safety_data = json.load(f)\n",
    "    harmless_prompts = safety_data['harmless']\n",
    "    jailbreak_prompts = safety_data['jailbreak']\n",
    "except FileNotFoundError:\n",
    "    print(f\"❌ Error: Safety data not found at {safety_data_path}. Please run download_data.py first.\")"
   ]
  },
  {
   "cell_type": "code",
   "execution_count": null,
   "metadata": {},
   "outputs": [],
   "source": [
    "random_number = random.randint(0, 1000)\n",
    "prompt=jailbreak_prompts[random_number]# harmless_prompts[random_number]\n",
    "print(\"GPT2 base model being used\")\n",
    "print(\"input=\",prompt)\n",
    "inputs = gen_tokenizer(prompt, return_tensors=\"pt\").to(device)\n",
    "        \n",
    "with torch.no_grad():\n",
    "    outputs = gen_model.generate(\n",
    "        **inputs,\n",
    "        max_new_tokens=50,\n",
    "        # temperature=0.7,\n",
    "        # top_p=0.95,\n",
    "        # do_sample=True,\n",
    "        pad_token_id=gen_tokenizer.eos_token_id\n",
    "    )\n",
    "\n",
    "full_response = gen_tokenizer.decode(outputs[0], skip_special_tokens=True)\n",
    "generated_part = full_response[len(prompt):].strip()\n",
    "print(\"llm output=\",generated_part)\n",
    "answer=is_refusal(generated_part, classifier_model, classifier_tokenizer, device)\n",
    "print(\"Refusal=\",answer)"
   ]
  },
  {
   "cell_type": "code",
   "execution_count": null,
   "metadata": {},
   "outputs": [],
   "source": [
    "random_number = random.randint(0, 1000)\n",
    "prompt=jailbreak_prompts[random_number]# harmless_prompts[random_number]\n",
    "print(\"GPT2 masked model being used\")\n",
    "print(\"input=\",prompt)\n",
    "inputs = tokenizer2(prompt, return_tensors=\"pt\").to(device)\n",
    "        \n",
    "with torch.no_grad():\n",
    "    outputs = model2.generate(\n",
    "        **inputs,\n",
    "        max_new_tokens=50,\n",
    "        # temperature=0.7,\n",
    "        # top_p=0.95,\n",
    "        # do_sample=True,\n",
    "        pad_token_id=gen_tokenizer.eos_token_id\n",
    "    )\n",
    "\n",
    "full_response = tokenizer2.decode(outputs[0], skip_special_tokens=True)\n",
    "generated_part = full_response[len(prompt):].strip()\n",
    "print(\"llm output=\",generated_part)\n",
    "answer=is_refusal(generated_part, classifier_model, classifier_tokenizer, device)\n",
    "print(\"Refusal=\",answer)"
   ]
  }
 ],
 "metadata": {
  "language_info": {
   "name": "python"
  }
 },
 "nbformat": 4,
 "nbformat_minor": 2
}
