{
 "cells": [
  {
   "cell_type": "code",
   "execution_count": null,
   "metadata": {},
   "outputs": [],
   "source": [
    "import os\n",
    "import json\n",
    "import random\n",
    "import sys\n",
    "\n",
    "# Add the parent directory (project_folder) to the system path\n",
    "# This allows Python to find main_script\n",
    "current_dir = os.path.dirname(__file__)\n",
    "parent_dir = os.path.abspath(os.path.join(current_dir, '..'))\n",
    "sys.path.append(parent_dir)"
   ]
  },
  {
   "cell_type": "code",
   "execution_count": null,
   "metadata": {},
   "outputs": [],
   "source": [
    "print(\"\\n--- Running Verification Tests ---\")\n",
    "data_dir=\"./data\"\n",
    "# Test 1: Verify safety data\n",
    "safety_path = os.path.join(data_dir, \"safety_evaluation_prompts.json\")\n",
    "with open(safety_path, 'r', encoding='utf-8') as f:\n",
    "    safety_data = json.load(f)\n",
    "\n",
    "print(f\"✅ Safety data loaded successfully from {safety_path}\")\n",
    "print(f\"   Number of harmless prompts: {len(safety_data['harmless'])}\")\n",
    "print(f\"   Number of jailbreak prompts: {len(safety_data['jailbreak'])}\")"
   ]
  },
  {
   "cell_type": "code",
   "execution_count": null,
   "metadata": {},
   "outputs": [],
   "source": [
    "random_number = random.randint(0, 1000)\n",
    "print(\"\\n   Example Harmless Prompt:\")\n",
    "print(f\"   '{safety_data['harmless'][random_number]}'\")\n",
    "print(\"\\n   Example Jailbreak Prompt:\")\n",
    "print(f\"   '{safety_data['jailbreak'][random_number]}'\")"
   ]
  },
  {
   "cell_type": "code",
   "execution_count": null,
   "metadata": {},
   "outputs": [],
   "source": [
    "#--------------------------Testing training data----------------------------------------\n",
    "pretrain_path = os.path.join(data_dir, \"pretraining_shard.txt\")\n",
    "try:\n",
    "    file_size = os.path.getsize(pretrain_path) / (1024 * 1024)\n",
    "    print(f\"\\n✅ Pre-training shard exists at {pretrain_path}\")\n",
    "    print(f\"   File size: {file_size:.2f} MB\")\n",
    "    with open(pretrain_path, 'r', encoding='utf-8') as f:\n",
    "        print(\"\\n   random 200 characters of pre-training shard:\")\n",
    "        # 1. Move the cursor to the 1000th character position\n",
    "        f.seek(1000)\n",
    "        print(f\"   '{f.read(200)}...'\")\n",
    "except Exception as e:\n",
    "    print(f\"❌ Failed to test pre-training data: {e}\")"
   ]
  },
  {
   "cell_type": "code",
   "execution_count": null,
   "metadata": {},
   "outputs": [],
   "source": []
  }
 ],
 "metadata": {
  "language_info": {
   "name": "python"
  }
 },
 "nbformat": 4,
 "nbformat_minor": 2
}
