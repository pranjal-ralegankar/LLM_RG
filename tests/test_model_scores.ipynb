{
 "cells": [
  {
   "cell_type": "code",
   "execution_count": 1,
   "id": "90630846-0575-4217-adb1-e8596f652cbe",
   "metadata": {},
   "outputs": [
    {
     "name": "stdout",
     "output_type": "stream",
     "text": [
      "Current Working Directory: /lambda/nfs/pranjal-codebase/tests\n",
      "Current Working Directory: /lambda/nfs/pranjal-codebase\n"
     ]
    }
   ],
   "source": [
    "import os\n",
    "import sys\n",
    "\n",
    "# change working directory\n",
    "current_dir = os.getcwd() \n",
    "print(f\"Current Working Directory: {current_dir}\")\n",
    "parent_dir = os.path.abspath(os.path.join(current_dir, '..'))\n",
    "os.chdir(parent_dir)\n",
    "current_dir = os.getcwd()\n",
    "print(f\"Current Working Directory: {current_dir}\")\n",
    "#We need to be in the main directory that contains tests, models, etc folders"
   ]
  },
  {
   "cell_type": "code",
   "execution_count": 2,
   "id": "cc39ef46-d3a5-4d3a-bc63-cdb342dcdf94",
   "metadata": {},
   "outputs": [
    {
     "name": "stderr",
     "output_type": "stream",
     "text": [
      "/home/ubuntu/.local/lib/python3.10/site-packages/tqdm/auto.py:21: TqdmWarning: IProgress not found. Please update jupyter and ipywidgets. See https://ipywidgets.readthedocs.io/en/stable/user_install.html\n",
      "  from .autonotebook import tqdm as notebook_tqdm\n",
      "2025-07-27 10:15:54.443657: I tensorflow/core/util/port.cc:153] oneDNN custom operations are on. You may see slightly different numerical results due to floating-point round-off errors from different computation orders. To turn them off, set the environment variable `TF_ENABLE_ONEDNN_OPTS=0`.\n",
      "2025-07-27 10:15:54.458663: E external/local_xla/xla/stream_executor/cuda/cuda_fft.cc:467] Unable to register cuFFT factory: Attempting to register factory for plugin cuFFT when one has already been registered\n",
      "WARNING: All log messages before absl::InitializeLog() is called are written to STDERR\n",
      "E0000 00:00:1753611354.478035    4988 cuda_dnn.cc:8579] Unable to register cuDNN factory: Attempting to register factory for plugin cuDNN when one has already been registered\n",
      "E0000 00:00:1753611354.484963    4988 cuda_blas.cc:1407] Unable to register cuBLAS factory: Attempting to register factory for plugin cuBLAS when one has already been registered\n",
      "W0000 00:00:1753611354.502445    4988 computation_placer.cc:177] computation placer already registered. Please check linkage and avoid linking the same target more than once.\n",
      "W0000 00:00:1753611354.502476    4988 computation_placer.cc:177] computation placer already registered. Please check linkage and avoid linking the same target more than once.\n",
      "W0000 00:00:1753611354.502479    4988 computation_placer.cc:177] computation placer already registered. Please check linkage and avoid linking the same target more than once.\n",
      "W0000 00:00:1753611354.502481    4988 computation_placer.cc:177] computation placer already registered. Please check linkage and avoid linking the same target more than once.\n",
      "2025-07-27 10:15:54.509053: I tensorflow/core/platform/cpu_feature_guard.cc:210] This TensorFlow binary is optimized to use available CPU instructions in performance-critical operations.\n",
      "To enable the following instructions: AVX512F AVX512_VNNI, in other operations, rebuild TensorFlow with the appropriate compiler flags.\n"
     ]
    }
   ],
   "source": [
    "from calculate_refusal_delta import score"
   ]
  },
  {
   "cell_type": "code",
   "execution_count": 3,
   "id": "92d7ffa6-ba3b-4399-aa74-badde32c14c3",
   "metadata": {},
   "outputs": [
    {
     "name": "stdout",
     "output_type": "stream",
     "text": [
      "Using device: cuda\n",
      "Loading m model from ./models/llm-refusal-classifier...\n",
      "Loading m model from ./models/gemma2b-it...\n"
     ]
    },
    {
     "name": "stderr",
     "output_type": "stream",
     "text": [
      "Loading checkpoint shards: 100%|██████████| 3/3 [00:00<00:00,  3.24it/s]\n"
     ]
    },
    {
     "name": "stdout",
     "output_type": "stream",
     "text": [
      "Loading safety data from: ./data/safety_evaluation_prompts.json\n",
      "\n",
      "--- Counting Refusals on 10 Harmless Prompts ---\n"
     ]
    },
    {
     "name": "stderr",
     "output_type": "stream",
     "text": [
      "Evaluating prompts:   0%|          | 0/10 [00:00<?, ?it/s]/usr/lib/python3/dist-packages/torch/nn/modules/module.py:1762: FutureWarning: `encoder_attention_mask` is deprecated and will be removed in version 4.55.0 for `RobertaSdpaSelfAttention.forward`.\n",
      "  return forward_call(*args, **kwargs)\n",
      "                                                                   "
     ]
    },
    {
     "name": "stdout",
     "output_type": "stream",
     "text": [
      "Number of refusals on harmless prompts: 0 / 10\n",
      "\n",
      "--- Counting Refusals on 10 Jailbreak Prompts ---\n"
     ]
    },
    {
     "name": "stderr",
     "output_type": "stream",
     "text": [
      "                                                                   "
     ]
    },
    {
     "name": "stdout",
     "output_type": "stream",
     "text": [
      "Number of refusals on jailbreak prompts: 6 / 10\n",
      "\n",
      "Clearing models from GPU memory...\n",
      "GPU memory cleared.\n",
      "Jailbreak score of gemma2b with 256 window mask= 6\n"
     ]
    }
   ],
   "source": [
    "# Set the path to the model that needs to be evaluated\n",
    "model_path=\"./models/gemma2b-it\"\n",
    "\n",
    "# Run the scoring function to calculate the final jailbreak score\n",
    "answer=score(model_path,10)\n",
    "print(\"Jailbreak score of gemma2b with 256 window mask=\",answer)"
   ]
  },
  {
   "cell_type": "code",
   "execution_count": 6,
   "id": "00a5a7be-02e1-49e3-aee4-39e230909858",
   "metadata": {},
   "outputs": [
    {
     "name": "stdout",
     "output_type": "stream",
     "text": [
      "Using device: cuda\n",
      "Loading m model from ./models/llm-refusal-classifier...\n",
      "Loading m model from ./models/gemma2b-it_sw256/checkpoint-3750...\n",
      "Applying attention mask to previous 256 tokens\n"
     ]
    },
    {
     "name": "stderr",
     "output_type": "stream",
     "text": [
      "Loading checkpoint shards: 100%|██████████| 2/2 [00:01<00:00,  1.17it/s]\n"
     ]
    },
    {
     "name": "stdout",
     "output_type": "stream",
     "text": [
      "Loading safety data from: ./data/safety_evaluation_prompts.json\n",
      "\n",
      "--- Counting Refusals on 100 Harmless Prompts ---\n"
     ]
    },
    {
     "name": "stderr",
     "output_type": "stream",
     "text": [
      "                                                                     "
     ]
    },
    {
     "name": "stdout",
     "output_type": "stream",
     "text": [
      "Number of refusals on harmless prompts: 0 / 100\n",
      "\n",
      "--- Counting Refusals on 100 Jailbreak Prompts ---\n"
     ]
    },
    {
     "name": "stderr",
     "output_type": "stream",
     "text": [
      "                                                                     "
     ]
    },
    {
     "name": "stdout",
     "output_type": "stream",
     "text": [
      "Number of refusals on jailbreak prompts: 30 / 100\n",
      "\n",
      "Clearing models from GPU memory...\n",
      "GPU memory cleared.\n",
      "Jailbreak score of gemma2b with 256 window mask= 30\n"
     ]
    }
   ],
   "source": [
    "# Set the path to the model that needs to be evaluated\n",
    "model_path=\"./models/gemma2b-it_sw256/checkpoint-3750\"\n",
    "\n",
    "# Run the scoring function to calculate the final jailbreak score\n",
    "answer=score(model_path,100)\n",
    "print(\"Jailbreak score of gemma2b with 256 window mask=\",answer)"
   ]
  },
  {
   "cell_type": "code",
   "execution_count": null,
   "id": "d47f3f3d-96e9-41cd-8b27-04226bd45214",
   "metadata": {},
   "outputs": [],
   "source": []
  }
 ],
 "metadata": {
  "kernelspec": {
   "display_name": "Python 3 (ipykernel)",
   "language": "python",
   "name": "python3"
  },
  "language_info": {
   "codemirror_mode": {
    "name": "ipython",
    "version": 3
   },
   "file_extension": ".py",
   "mimetype": "text/x-python",
   "name": "python",
   "nbconvert_exporter": "python",
   "pygments_lexer": "ipython3",
   "version": "3.10.12"
  }
 },
 "nbformat": 4,
 "nbformat_minor": 5
}
